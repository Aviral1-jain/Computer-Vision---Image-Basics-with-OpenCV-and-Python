{
 "cells": [
  {
   "cell_type": "code",
   "execution_count": null,
   "id": "0b20fa37",
   "metadata": {},
   "outputs": [],
   "source": [
    "import numpy as np\n",
    "import matplotlib.pyplot as plt\n",
    "%matplotlib inline"
   ]
  },
  {
   "cell_type": "code",
   "execution_count": null,
   "id": "c0bc224d",
   "metadata": {},
   "outputs": [],
   "source": [
    "from PIL import Image"
   ]
  },
  {
   "cell_type": "code",
   "execution_count": null,
   "id": "4de8907c",
   "metadata": {},
   "outputs": [],
   "source": [
    "img =Image.open('rock.jpg')"
   ]
  },
  {
   "cell_type": "code",
   "execution_count": null,
   "id": "1f728820",
   "metadata": {},
   "outputs": [],
   "source": [
    "img"
   ]
  },
  {
   "cell_type": "markdown",
   "id": "ce16ab9f",
   "metadata": {},
   "source": [
    "Rotate the Image"
   ]
  },
  {
   "cell_type": "code",
   "execution_count": null,
   "id": "1dabbcb7",
   "metadata": {},
   "outputs": [],
   "source": [
    "img.rotate(-90)"
   ]
  },
  {
   "cell_type": "code",
   "execution_count": null,
   "id": "8ef6a69e",
   "metadata": {},
   "outputs": [],
   "source": [
    "##type of image"
   ]
  },
  {
   "cell_type": "code",
   "execution_count": null,
   "id": "bf2a015e",
   "metadata": {},
   "outputs": [],
   "source": [
    "img_array=np.asarray(img)"
   ]
  },
  {
   "cell_type": "code",
   "execution_count": null,
   "id": "ffdef181",
   "metadata": {},
   "outputs": [],
   "source": [
    "type(img_array)"
   ]
  },
  {
   "cell_type": "code",
   "execution_count": null,
   "id": "e5a2f068",
   "metadata": {},
   "outputs": [],
   "source": [
    "img_array.shape"
   ]
  },
  {
   "cell_type": "code",
   "execution_count": null,
   "id": "4b46fefb",
   "metadata": {},
   "outputs": [],
   "source": [
    "plt.imshow(img_array)"
   ]
  },
  {
   "cell_type": "code",
   "execution_count": null,
   "id": "d76d00ab",
   "metadata": {},
   "outputs": [],
   "source": [
    "###RGB channels"
   ]
  },
  {
   "cell_type": "code",
   "execution_count": null,
   "id": "5ad7fec4",
   "metadata": {},
   "outputs": [],
   "source": [
    "img_test=img_array.copy()"
   ]
  },
  {
   "cell_type": "markdown",
   "id": "84e85275",
   "metadata": {},
   "source": [
    "## Only Red channel"
   ]
  },
  {
   "cell_type": "code",
   "execution_count": null,
   "id": "267a9293",
   "metadata": {},
   "outputs": [],
   "source": [
    "plt.imshow(img_test[:,:,0])"
   ]
  },
  {
   "cell_type": "markdown",
   "id": "04f72f9c",
   "metadata": {},
   "source": [
    "## Only Gray channel"
   ]
  },
  {
   "cell_type": "code",
   "execution_count": null,
   "id": "a0ed1b4c",
   "metadata": {},
   "outputs": [],
   "source": [
    "plt.imshow(img_test[:,:,0],cmap='gray')"
   ]
  },
  {
   "cell_type": "code",
   "execution_count": null,
   "id": "53e6222e",
   "metadata": {},
   "outputs": [],
   "source": [
    "plt.imshow(img_test[:,:,1])"
   ]
  },
  {
   "cell_type": "code",
   "execution_count": null,
   "id": "6c1bfa5a",
   "metadata": {},
   "outputs": [],
   "source": [
    "plt.imshow(img_test[:,:,1],cmap='gray')"
   ]
  },
  {
   "cell_type": "code",
   "execution_count": null,
   "id": "7640be98",
   "metadata": {},
   "outputs": [],
   "source": [
    "plt.imshow(img_test[:,:,2])"
   ]
  },
  {
   "cell_type": "code",
   "execution_count": null,
   "id": "514829f2",
   "metadata": {},
   "outputs": [],
   "source": [
    "plt.imshow(img_test[:,:,2],cmap='gray')"
   ]
  },
  {
   "cell_type": "markdown",
   "id": "44ea1aad",
   "metadata": {},
   "source": [
    "### Remove Red Colour"
   ]
  },
  {
   "cell_type": "code",
   "execution_count": null,
   "id": "6368babe",
   "metadata": {},
   "outputs": [],
   "source": [
    "img_test[:,:,0]=0\n",
    "plt.imshow(img_test)"
   ]
  },
  {
   "cell_type": "markdown",
   "id": "16fa8c7e",
   "metadata": {},
   "source": [
    "### Remove Green Colour"
   ]
  },
  {
   "cell_type": "code",
   "execution_count": null,
   "id": "cbc092ab",
   "metadata": {},
   "outputs": [],
   "source": [
    "img_test[:,:,1]=0\n",
    "plt.imshow(img_test)"
   ]
  },
  {
   "cell_type": "markdown",
   "id": "01f4b53d",
   "metadata": {},
   "source": [
    "### Remove Blue Colour"
   ]
  },
  {
   "cell_type": "code",
   "execution_count": null,
   "id": "73f1be48",
   "metadata": {},
   "outputs": [],
   "source": [
    "img_test[:,:,2]=0\n",
    "plt.imshow(img_test)"
   ]
  },
  {
   "cell_type": "markdown",
   "id": "ec4b06da",
   "metadata": {},
   "source": [
    "## 2. OpenCV "
   ]
  },
  {
   "cell_type": "code",
   "execution_count": null,
   "id": "423a9911",
   "metadata": {},
   "outputs": [],
   "source": [
    "import numpy as np\n",
    "import matplotlib.pyplot as plt\n",
    "%matplotlib inline"
   ]
  },
  {
   "cell_type": "code",
   "execution_count": null,
   "id": "18512b7f",
   "metadata": {},
   "outputs": [],
   "source": [
    "import cv2"
   ]
  },
  {
   "cell_type": "code",
   "execution_count": null,
   "id": "177d8ce0",
   "metadata": {},
   "outputs": [],
   "source": [
    "img=cv2.imread('rock.jpg')"
   ]
  },
  {
   "cell_type": "code",
   "execution_count": null,
   "id": "ee8fdf65",
   "metadata": {},
   "outputs": [],
   "source": [
    "img"
   ]
  },
  {
   "cell_type": "code",
   "execution_count": null,
   "id": "aef34deb",
   "metadata": {},
   "outputs": [],
   "source": [
    "type(img)"
   ]
  },
  {
   "cell_type": "code",
   "execution_count": null,
   "id": "75a3b92a",
   "metadata": {},
   "outputs": [],
   "source": [
    "img.shape"
   ]
  },
  {
   "cell_type": "code",
   "execution_count": null,
   "id": "4a93c669",
   "metadata": {},
   "outputs": [],
   "source": [
    "plt.imshow(img)"
   ]
  },
  {
   "cell_type": "code",
   "execution_count": null,
   "id": "c481ee82",
   "metadata": {},
   "outputs": [],
   "source": [
    "img_fix=cv2.cvtColor(img,cv2.COLOR_BGR2RGB)"
   ]
  },
  {
   "cell_type": "code",
   "execution_count": null,
   "id": "f5d2eeaa",
   "metadata": {},
   "outputs": [],
   "source": [
    "plt.imshow(img_fix)"
   ]
  },
  {
   "cell_type": "code",
   "execution_count": null,
   "id": "7be6435e",
   "metadata": {},
   "outputs": [],
   "source": [
    "img_gray=cv2.imread('rock.jpg',cv2.IMREAD_GRAYSCALE)"
   ]
  },
  {
   "cell_type": "code",
   "execution_count": null,
   "id": "c96bad85",
   "metadata": {},
   "outputs": [],
   "source": [
    "plt.imshow(img_gray)"
   ]
  },
  {
   "cell_type": "code",
   "execution_count": null,
   "id": "8a182fc0",
   "metadata": {},
   "outputs": [],
   "source": [
    "img_gray.shape"
   ]
  },
  {
   "cell_type": "code",
   "execution_count": null,
   "id": "4fd11761",
   "metadata": {},
   "outputs": [],
   "source": [
    "plt.imshow(img_gray,cmap='gray')"
   ]
  },
  {
   "cell_type": "code",
   "execution_count": null,
   "id": "315bc01a",
   "metadata": {},
   "outputs": [],
   "source": [
    "img_new=cv2.resize(img_fix,(1000,400))"
   ]
  },
  {
   "cell_type": "code",
   "execution_count": null,
   "id": "48fd40ad",
   "metadata": {},
   "outputs": [],
   "source": [
    "plt.imshow(img_new)"
   ]
  },
  {
   "cell_type": "markdown",
   "id": "8c7cc789",
   "metadata": {},
   "source": [
    "## Resize with Ratio"
   ]
  },
  {
   "cell_type": "code",
   "execution_count": null,
   "id": "89b7e9e1",
   "metadata": {},
   "outputs": [],
   "source": [
    "width_ratio=0.5\n",
    "height_ratio=0.5"
   ]
  },
  {
   "cell_type": "code",
   "execution_count": null,
   "id": "96f1d2d0",
   "metadata": {},
   "outputs": [],
   "source": [
    "img2=cv2.resize(img_fix,(0,0),img_fix,width_ratio,height_ratio)"
   ]
  },
  {
   "cell_type": "code",
   "execution_count": null,
   "id": "1fc35268",
   "metadata": {},
   "outputs": [],
   "source": [
    "plt.imshow(img2)"
   ]
  },
  {
   "cell_type": "code",
   "execution_count": null,
   "id": "3ea879e8",
   "metadata": {},
   "outputs": [],
   "source": [
    "img2.shape"
   ]
  },
  {
   "cell_type": "markdown",
   "id": "9b3f4a49",
   "metadata": {},
   "source": [
    "## Flip on Horizontal Axis"
   ]
  },
  {
   "cell_type": "code",
   "execution_count": null,
   "id": "f3582baa",
   "metadata": {},
   "outputs": [],
   "source": [
    "img_3=cv2.flip(img_fix,0)\n",
    "plt.imshow(img_3)"
   ]
  },
  {
   "cell_type": "markdown",
   "id": "5f3dd558",
   "metadata": {},
   "source": [
    "## Flip on Vertical Axis"
   ]
  },
  {
   "cell_type": "code",
   "execution_count": null,
   "id": "fb247189",
   "metadata": {},
   "outputs": [],
   "source": [
    "img_3=cv2.flip(img_fix,1)\n",
    "plt.imshow(img_3)"
   ]
  },
  {
   "cell_type": "markdown",
   "id": "34d3ea4a",
   "metadata": {},
   "source": [
    "## Flip on Horizontal Axis and Vertical Axis"
   ]
  },
  {
   "cell_type": "code",
   "execution_count": null,
   "id": "15cfa879",
   "metadata": {},
   "outputs": [],
   "source": [
    "img_3=cv2.flip(img_fix,-1)\n",
    "plt.imshow(img_3)"
   ]
  },
  {
   "cell_type": "markdown",
   "id": "befedbe4",
   "metadata": {},
   "source": [
    "## Change the size of our canva"
   ]
  },
  {
   "cell_type": "code",
   "execution_count": null,
   "id": "0f41168c",
   "metadata": {},
   "outputs": [],
   "source": [
    "last_img=plt.figure(figsize=(10,7))\n",
    "ilp=last_img.add_subplot(111)\n",
    "ilp.imshow(img_fix)"
   ]
  },
  {
   "cell_type": "markdown",
   "id": "eb69f2a4",
   "metadata": {},
   "source": [
    "# Draw Shapes on an Image"
   ]
  },
  {
   "cell_type": "markdown",
   "id": "16119a06",
   "metadata": {},
   "source": [
    "## create a black image to work"
   ]
  },
  {
   "cell_type": "code",
   "execution_count": null,
   "id": "373723dd",
   "metadata": {},
   "outputs": [],
   "source": [
    "black_img=np.zeros(shape=(512,512,3),dtype=np.int16)"
   ]
  },
  {
   "cell_type": "code",
   "execution_count": null,
   "id": "0aaa1086",
   "metadata": {},
   "outputs": [],
   "source": [
    "black_img.shape"
   ]
  },
  {
   "cell_type": "code",
   "execution_count": null,
   "id": "46c97a9f",
   "metadata": {},
   "outputs": [],
   "source": [
    "plt.imshow(black_img)"
   ]
  },
  {
   "cell_type": "markdown",
   "id": "d8e9af1a",
   "metadata": {},
   "source": [
    "Draw a Circle"
   ]
  },
  {
   "cell_type": "code",
   "execution_count": null,
   "id": "7935dba8",
   "metadata": {},
   "outputs": [],
   "source": [
    "cv2.circle(img=black_img,center=(400,100),radius=50,color=(255,0,0),thickness=8)"
   ]
  },
  {
   "cell_type": "code",
   "execution_count": null,
   "id": "96ac35fd",
   "metadata": {},
   "outputs": [],
   "source": [
    "plt.imshow(black_img)"
   ]
  },
  {
   "cell_type": "code",
   "execution_count": null,
   "id": "b5c00a97",
   "metadata": {},
   "outputs": [],
   "source": [
    "cv2.circle(img=black_img,center=(400,200),radius=50,color=(0,255,0),thickness=-1)\n",
    "plt.imshow(black_img)"
   ]
  },
  {
   "cell_type": "code",
   "execution_count": null,
   "id": "37c4d9ca",
   "metadata": {},
   "outputs": [],
   "source": [
    "cv2.rectangle(black_img,pt1=(200,200),\n",
    "             pt2=(300,300),\n",
    "             color=(0,255,0),\n",
    "             thickness=5)\n",
    "\n",
    "\n",
    "plt.imshow(black_img)"
   ]
  },
  {
   "cell_type": "code",
   "execution_count": null,
   "id": "902c3644",
   "metadata": {},
   "outputs": [],
   "source": [
    "vertices=np.array([[10,450],[110,350],[180,450]],np.int32)\n",
    "pts=vertices.reshape(-1,1,2)\n",
    "\n",
    "cv2.polylines(black_img,[pts],isClosed=True,color=(0,0,255),thickness=3)\n",
    "\n",
    "plt.imshow(black_img)"
   ]
  },
  {
   "cell_type": "markdown",
   "id": "e29e398c",
   "metadata": {},
   "source": [
    "## Filled Triangle\n"
   ]
  },
  {
   "cell_type": "code",
   "execution_count": null,
   "id": "a54ee9c3",
   "metadata": {},
   "outputs": [],
   "source": [
    "vertices=np.array([[10,250],[110,150],[180,250]],np.int32)\n",
    "\n",
    "pts=vertices.reshape(-1,1,2)\n",
    "\n",
    "cv2.fillPoly(black_img,[pts],color=(255,167,201))\n",
    "\n",
    "plt.imshow(black_img)"
   ]
  },
  {
   "cell_type": "markdown",
   "id": "49f5d05c",
   "metadata": {},
   "source": [
    "## Draw Line"
   ]
  },
  {
   "cell_type": "code",
   "execution_count": null,
   "id": "32f67b1c",
   "metadata": {},
   "outputs": [],
   "source": [
    "cv2.line(black_img,pt1=(512,0),\n",
    "             pt2=(0,512),\n",
    "             color=(255,0,255),\n",
    "             thickness=3)\n",
    "\n",
    "\n",
    "plt.imshow(black_img)"
   ]
  },
  {
   "cell_type": "markdown",
   "id": "f29c32c0",
   "metadata": {},
   "source": [
    "## Write Text"
   ]
  },
  {
   "cell_type": "code",
   "execution_count": null,
   "id": "d15fe771",
   "metadata": {},
   "outputs": [],
   "source": [
    "font=cv2.FONT_HERSHEY_SIMPLEX\n",
    "cv2.putText(black_img,text='Rhyme',org=(210,500),fontFace=font,fontScale=3,color=(255,255,0),thickness=3,lineType=cv2.LINE_AA)\n",
    "\n",
    "plt.imshow(black_img)"
   ]
  },
  {
   "cell_type": "markdown",
   "id": "f7decd2b",
   "metadata": {},
   "source": [
    "## Drawing with the Mouse "
   ]
  },
  {
   "cell_type": "code",
   "execution_count": null,
   "id": "03009b9f",
   "metadata": {},
   "outputs": [],
   "source": [
    "import cv2\n",
    "import numpy as np\n",
    "\n",
    "def draw_circle(event,x,y,flags,param):\n",
    "    if event==cv2.EVENT_LBUTTONDOWN:\n",
    "        cv2.circle(img,(x,y),70,(35,69,78),-1)\n",
    "        \n",
    "        \n",
    "cv2.namedWindow(winname='my_drawing')\n",
    "\n",
    "cv2.setMouseCallback('my_drawing',draw_circle)\n",
    "\n",
    "img=np.zeros((512,512,3),np.int8)\n",
    "\n",
    "while True:\n",
    "    cv2.imshow('my_drawing',img)\n",
    "    \n",
    "    if cv2.waitKey(5) & 0xFF==27:\n",
    "        break\n",
    "\n",
    "\n",
    "\n",
    "        \n",
    "cv2.destroyAllWindows()"
   ]
  },
  {
   "cell_type": "markdown",
   "id": "1cc08cd0",
   "metadata": {},
   "source": [
    "## Add Choice to the Mouse"
   ]
  },
  {
   "cell_type": "code",
   "execution_count": null,
   "id": "1be59177",
   "metadata": {},
   "outputs": [],
   "source": [
    "import cv2\n",
    "import numpy as np\n",
    "\n",
    "def draw_circle(event,x,y,flags,param):\n",
    "    if event==cv2.EVENT_LBUTTONDOWN:\n",
    "        cv2.circle(img,(x,y),100,(75,131,251),-1)\n",
    "    elif event==cv2.EVENT_RBUTTONDOWN:\n",
    "        cv2.circle(img,(x,y),50,(251,75,131),-1)\n",
    "        \n",
    "        \n",
    "cv2.namedWindow(winname='my_draw')\n",
    "\n",
    "\n",
    "cv2.setMouseCallback('my_draw',draw_circle)\n",
    "\n",
    "\n",
    "img=np.zeros((512,512,3),np.int8)\n",
    "\n",
    "while True:\n",
    "    cv2.imshow('my_draw',img)\n",
    "    \n",
    "    if cv2.waitKey(5) & 0xFF==ord('q'):\n",
    "        break\n",
    "\n",
    "\n",
    "\n",
    "        \n",
    "cv2.destroyAllWindows()"
   ]
  },
  {
   "cell_type": "markdown",
   "id": "2e11ac2b",
   "metadata": {},
   "source": [
    "## Mouse Functionality"
   ]
  },
  {
   "cell_type": "code",
   "execution_count": null,
   "id": "7312da83",
   "metadata": {},
   "outputs": [],
   "source": [
    "import cv2\n",
    "import numpy as np\n",
    "\n",
    "\n",
    "\n",
    "drawing =False\n",
    "ex=-1\n",
    "ey=-1\n",
    "\n",
    "\n",
    "def draw_rectangle(event,x,y,flags,params):\n",
    "    global ex,ey,drawing\n",
    "    \n",
    "    if event==cv2.EVENT_LBUTTONDOWN:\n",
    "        drawing=True\n",
    "        ex,ey=x,y\n",
    "        \n",
    "    elif event==cv2.EVENT_MOUSEMOVE:\n",
    "        \n",
    "        \n",
    "        if drawing==True:\n",
    "            cv2.rectangle(img,(ex,ey),(x,y),(255,0,255),-1)\n",
    "            \n",
    "            \n",
    "    elif event==cv2.EVENT_LBUTTONUP:\n",
    "        drawing=False\n",
    "        cv2.rectangle(img,(ex,ey),(x,y),(255,0,255),-1)\n",
    "        \n",
    "        \n",
    "        \n",
    "\n",
    "img=np.zeros((512,512,3),np.int8)        \n",
    "cv2.namedWindow(winname='my_draw')\n",
    "\n",
    "\n",
    "cv2.setMouseCallback('my_draw',draw_rectangle)\n",
    "\n",
    "\n",
    "\n",
    "\n",
    "while True:\n",
    "    cv2.imshow('my_draw',img)\n",
    "    \n",
    "    if cv2.waitKey(5) & 0xFF==ord('q'):\n",
    "        break\n",
    "\n",
    "\n",
    "\n",
    "        \n",
    "cv2.destroyAllWindows()"
   ]
  },
  {
   "cell_type": "code",
   "execution_count": null,
   "id": "5cfb1efb",
   "metadata": {},
   "outputs": [],
   "source": []
  }
 ],
 "metadata": {
  "kernelspec": {
   "display_name": "Python 3 (ipykernel)",
   "language": "python",
   "name": "python3"
  },
  "language_info": {
   "codemirror_mode": {
    "name": "ipython",
    "version": 3
   },
   "file_extension": ".py",
   "mimetype": "text/x-python",
   "name": "python",
   "nbconvert_exporter": "python",
   "pygments_lexer": "ipython3",
   "version": "3.9.7"
  }
 },
 "nbformat": 4,
 "nbformat_minor": 5
}
